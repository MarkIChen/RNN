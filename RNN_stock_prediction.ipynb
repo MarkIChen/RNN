{
  "nbformat": 4,
  "nbformat_minor": 0,
  "metadata": {
    "colab": {
      "name": "RNN-stock-prediction.ipynb",
      "provenance": [],
      "collapsed_sections": [
        "LU77a4-_2s8m",
        "wqh3yyCL391O",
        "8ezqUCGKzdsp"
      ]
    },
    "kernelspec": {
      "name": "python3",
      "display_name": "Python 3"
    }
  },
  "cells": [
    {
      "cell_type": "markdown",
      "metadata": {
        "id": "PblfPoP_zzug",
        "colab_type": "text"
      },
      "source": [
        "# Predict Stock Price"
      ]
    },
    {
      "cell_type": "markdown",
      "metadata": {
        "id": "gfmO9ZIUz48O",
        "colab_type": "text"
      },
      "source": [
        "Try to predict the downward and upward trend of Google stock price."
      ]
    },
    {
      "cell_type": "markdown",
      "metadata": {
        "id": "6YpflIwP07Dq",
        "colab_type": "text"
      },
      "source": [
        "## Get Data"
      ]
    },
    {
      "cell_type": "code",
      "metadata": {
        "id": "L69GnTx_ztfZ",
        "colab_type": "code",
        "colab": {}
      },
      "source": [
        "import requests\n",
        "import numpy as np \n",
        "import pandas as pd\n",
        "import matplotlib.pyplot as plt"
      ],
      "execution_count": 0,
      "outputs": []
    },
    {
      "cell_type": "code",
      "metadata": {
        "id": "DRb0vJ3Z1ARF",
        "colab_type": "code",
        "colab": {}
      },
      "source": [
        "train_data_url = 'https://raw.githubusercontent.com/MarkIChen/RNN/master/dataset/Google_Stock_Price_Train.csv'\n",
        "test_data_url = 'https://raw.githubusercontent.com/MarkIChen/RNN/master/dataset/Google_Stock_Price_Test.csv'\n",
        "train_data = pd.read_csv(train_data_url)\n",
        "test_data = pd.read_csv(test_data_url)"
      ],
      "execution_count": 0,
      "outputs": []
    },
    {
      "cell_type": "code",
      "metadata": {
        "id": "XB7GAxHU1jBS",
        "colab_type": "code",
        "outputId": "ecccbaf9-081a-41be-ad24-66ec9c4e1cec",
        "colab": {
          "base_uri": "https://localhost:8080/",
          "height": 204
        }
      },
      "source": [
        "train_data.head()"
      ],
      "execution_count": 85,
      "outputs": [
        {
          "output_type": "execute_result",
          "data": {
            "text/html": [
              "<div>\n",
              "<style scoped>\n",
              "    .dataframe tbody tr th:only-of-type {\n",
              "        vertical-align: middle;\n",
              "    }\n",
              "\n",
              "    .dataframe tbody tr th {\n",
              "        vertical-align: top;\n",
              "    }\n",
              "\n",
              "    .dataframe thead th {\n",
              "        text-align: right;\n",
              "    }\n",
              "</style>\n",
              "<table border=\"1\" class=\"dataframe\">\n",
              "  <thead>\n",
              "    <tr style=\"text-align: right;\">\n",
              "      <th></th>\n",
              "      <th>Date</th>\n",
              "      <th>Open</th>\n",
              "      <th>High</th>\n",
              "      <th>Low</th>\n",
              "      <th>Close</th>\n",
              "      <th>Volume</th>\n",
              "    </tr>\n",
              "  </thead>\n",
              "  <tbody>\n",
              "    <tr>\n",
              "      <th>0</th>\n",
              "      <td>1/3/2012</td>\n",
              "      <td>325.25</td>\n",
              "      <td>332.83</td>\n",
              "      <td>324.97</td>\n",
              "      <td>663.59</td>\n",
              "      <td>7,380,500</td>\n",
              "    </tr>\n",
              "    <tr>\n",
              "      <th>1</th>\n",
              "      <td>1/4/2012</td>\n",
              "      <td>331.27</td>\n",
              "      <td>333.87</td>\n",
              "      <td>329.08</td>\n",
              "      <td>666.45</td>\n",
              "      <td>5,749,400</td>\n",
              "    </tr>\n",
              "    <tr>\n",
              "      <th>2</th>\n",
              "      <td>1/5/2012</td>\n",
              "      <td>329.83</td>\n",
              "      <td>330.75</td>\n",
              "      <td>326.89</td>\n",
              "      <td>657.21</td>\n",
              "      <td>6,590,300</td>\n",
              "    </tr>\n",
              "    <tr>\n",
              "      <th>3</th>\n",
              "      <td>1/6/2012</td>\n",
              "      <td>328.34</td>\n",
              "      <td>328.77</td>\n",
              "      <td>323.68</td>\n",
              "      <td>648.24</td>\n",
              "      <td>5,405,900</td>\n",
              "    </tr>\n",
              "    <tr>\n",
              "      <th>4</th>\n",
              "      <td>1/9/2012</td>\n",
              "      <td>322.04</td>\n",
              "      <td>322.29</td>\n",
              "      <td>309.46</td>\n",
              "      <td>620.76</td>\n",
              "      <td>11,688,800</td>\n",
              "    </tr>\n",
              "  </tbody>\n",
              "</table>\n",
              "</div>"
            ],
            "text/plain": [
              "       Date    Open    High     Low   Close      Volume\n",
              "0  1/3/2012  325.25  332.83  324.97  663.59   7,380,500\n",
              "1  1/4/2012  331.27  333.87  329.08  666.45   5,749,400\n",
              "2  1/5/2012  329.83  330.75  326.89  657.21   6,590,300\n",
              "3  1/6/2012  328.34  328.77  323.68  648.24   5,405,900\n",
              "4  1/9/2012  322.04  322.29  309.46  620.76  11,688,800"
            ]
          },
          "metadata": {
            "tags": []
          },
          "execution_count": 85
        }
      ]
    },
    {
      "cell_type": "code",
      "metadata": {
        "id": "u1g5XRJD1tv5",
        "colab_type": "code",
        "outputId": "5a28c22d-96c8-4c3b-a233-12f8cfcebec6",
        "colab": {
          "base_uri": "https://localhost:8080/",
          "height": 204
        }
      },
      "source": [
        "test_data.head()"
      ],
      "execution_count": 86,
      "outputs": [
        {
          "output_type": "execute_result",
          "data": {
            "text/html": [
              "<div>\n",
              "<style scoped>\n",
              "    .dataframe tbody tr th:only-of-type {\n",
              "        vertical-align: middle;\n",
              "    }\n",
              "\n",
              "    .dataframe tbody tr th {\n",
              "        vertical-align: top;\n",
              "    }\n",
              "\n",
              "    .dataframe thead th {\n",
              "        text-align: right;\n",
              "    }\n",
              "</style>\n",
              "<table border=\"1\" class=\"dataframe\">\n",
              "  <thead>\n",
              "    <tr style=\"text-align: right;\">\n",
              "      <th></th>\n",
              "      <th>Date</th>\n",
              "      <th>Open</th>\n",
              "      <th>High</th>\n",
              "      <th>Low</th>\n",
              "      <th>Close</th>\n",
              "      <th>Volume</th>\n",
              "    </tr>\n",
              "  </thead>\n",
              "  <tbody>\n",
              "    <tr>\n",
              "      <th>0</th>\n",
              "      <td>1/3/2017</td>\n",
              "      <td>778.81</td>\n",
              "      <td>789.63</td>\n",
              "      <td>775.80</td>\n",
              "      <td>786.14</td>\n",
              "      <td>1,657,300</td>\n",
              "    </tr>\n",
              "    <tr>\n",
              "      <th>1</th>\n",
              "      <td>1/4/2017</td>\n",
              "      <td>788.36</td>\n",
              "      <td>791.34</td>\n",
              "      <td>783.16</td>\n",
              "      <td>786.90</td>\n",
              "      <td>1,073,000</td>\n",
              "    </tr>\n",
              "    <tr>\n",
              "      <th>2</th>\n",
              "      <td>1/5/2017</td>\n",
              "      <td>786.08</td>\n",
              "      <td>794.48</td>\n",
              "      <td>785.02</td>\n",
              "      <td>794.02</td>\n",
              "      <td>1,335,200</td>\n",
              "    </tr>\n",
              "    <tr>\n",
              "      <th>3</th>\n",
              "      <td>1/6/2017</td>\n",
              "      <td>795.26</td>\n",
              "      <td>807.90</td>\n",
              "      <td>792.20</td>\n",
              "      <td>806.15</td>\n",
              "      <td>1,640,200</td>\n",
              "    </tr>\n",
              "    <tr>\n",
              "      <th>4</th>\n",
              "      <td>1/9/2017</td>\n",
              "      <td>806.40</td>\n",
              "      <td>809.97</td>\n",
              "      <td>802.83</td>\n",
              "      <td>806.65</td>\n",
              "      <td>1,272,400</td>\n",
              "    </tr>\n",
              "  </tbody>\n",
              "</table>\n",
              "</div>"
            ],
            "text/plain": [
              "       Date    Open    High     Low   Close     Volume\n",
              "0  1/3/2017  778.81  789.63  775.80  786.14  1,657,300\n",
              "1  1/4/2017  788.36  791.34  783.16  786.90  1,073,000\n",
              "2  1/5/2017  786.08  794.48  785.02  794.02  1,335,200\n",
              "3  1/6/2017  795.26  807.90  792.20  806.15  1,640,200\n",
              "4  1/9/2017  806.40  809.97  802.83  806.65  1,272,400"
            ]
          },
          "metadata": {
            "tags": []
          },
          "execution_count": 86
        }
      ]
    },
    {
      "cell_type": "markdown",
      "metadata": {
        "id": "LU77a4-_2s8m",
        "colab_type": "text"
      },
      "source": [
        "## Prepare for training dataset"
      ]
    },
    {
      "cell_type": "code",
      "metadata": {
        "id": "Qovv4N0B1zKL",
        "colab_type": "code",
        "colab": {}
      },
      "source": [
        "training_set = train_data.iloc[:, 1:2].values\n",
        "# values will transform panda into a numpy array"
      ],
      "execution_count": 0,
      "outputs": []
    },
    {
      "cell_type": "code",
      "metadata": {
        "id": "ipsYT2Mt3Od3",
        "colab_type": "code",
        "outputId": "81d847f8-c054-4c48-fef8-97c3d9bd0fb6",
        "colab": {
          "base_uri": "https://localhost:8080/",
          "height": 0
        }
      },
      "source": [
        "train_data.shape, training_set.shape"
      ],
      "execution_count": 88,
      "outputs": [
        {
          "output_type": "execute_result",
          "data": {
            "text/plain": [
              "((1258, 6), (1258, 1))"
            ]
          },
          "metadata": {
            "tags": []
          },
          "execution_count": 88
        }
      ]
    },
    {
      "cell_type": "markdown",
      "metadata": {
        "id": "wqh3yyCL391O",
        "colab_type": "text"
      },
      "source": [
        "## Feature scaling"
      ]
    },
    {
      "cell_type": "markdown",
      "metadata": {
        "id": "46BX1kPL4lFZ",
        "colab_type": "text"
      },
      "source": [
        "![alt text](https://github.com/MarkIChen/RNN/blob/master/img/Feature-Scaling.png?raw=true)"
      ]
    },
    {
      "cell_type": "markdown",
      "metadata": {
        "id": "AkvlYT0tyFNy",
        "colab_type": "text"
      },
      "source": [
        "When there is a sigmoid function as a activation layer, we should use normalization."
      ]
    },
    {
      "cell_type": "code",
      "metadata": {
        "id": "wNcZjmpo3QWb",
        "colab_type": "code",
        "colab": {}
      },
      "source": [
        "from sklearn.preprocessing import MinMaxScaler\n",
        "sc = MinMaxScaler(feature_range=(0, 1))"
      ],
      "execution_count": 0,
      "outputs": []
    },
    {
      "cell_type": "code",
      "metadata": {
        "id": "nx_TNHth5SG_",
        "colab_type": "code",
        "colab": {}
      },
      "source": [
        "training_set_scaled = sc.fit_transform(training_set)"
      ],
      "execution_count": 0,
      "outputs": []
    },
    {
      "cell_type": "code",
      "metadata": {
        "id": "lKA7LR9u8QWP",
        "colab_type": "code",
        "outputId": "42c9f853-01ab-453c-d611-760dfb72ebac",
        "colab": {
          "base_uri": "https://localhost:8080/",
          "height": 0
        }
      },
      "source": [
        "training_set_scaled.shape"
      ],
      "execution_count": 91,
      "outputs": [
        {
          "output_type": "execute_result",
          "data": {
            "text/plain": [
              "(1258, 1)"
            ]
          },
          "metadata": {
            "tags": []
          },
          "execution_count": 91
        }
      ]
    },
    {
      "cell_type": "markdown",
      "metadata": {
        "id": "8ezqUCGKzdsp",
        "colab_type": "text"
      },
      "source": [
        "## Create a data structure to store timesteps"
      ]
    },
    {
      "cell_type": "markdown",
      "metadata": {
        "id": "al9nUl9Xz4vo",
        "colab_type": "text"
      },
      "source": [
        "Now, we will predict the ouput based on privious 60 day data."
      ]
    },
    {
      "cell_type": "code",
      "metadata": {
        "id": "rculP3T38YQe",
        "colab_type": "code",
        "colab": {}
      },
      "source": [
        "X_train = []\n",
        "y_train = []"
      ],
      "execution_count": 0,
      "outputs": []
    },
    {
      "cell_type": "code",
      "metadata": {
        "id": "UPzrJiYq0VKp",
        "colab_type": "code",
        "colab": {}
      },
      "source": [
        "for i in range(60, training_set_scaled.shape[0]-1):\n",
        "  X_train.append(training_set_scaled[i-60:i, 0])\n",
        "  y_train.append(training_set_scaled[i, 0])\n",
        "\n",
        "X_train, y_train = np.array(X_train), np.array(y_train)"
      ],
      "execution_count": 0,
      "outputs": []
    },
    {
      "cell_type": "code",
      "metadata": {
        "id": "P4e5OPeg13FN",
        "colab_type": "code",
        "outputId": "2cd7ea89-d2d4-46b4-915a-77ac942a26d6",
        "colab": {
          "base_uri": "https://localhost:8080/",
          "height": 0
        }
      },
      "source": [
        "pd.DataFrame(X_train).head(5)"
      ],
      "execution_count": 94,
      "outputs": [
        {
          "output_type": "execute_result",
          "data": {
            "text/html": [
              "<div>\n",
              "<style scoped>\n",
              "    .dataframe tbody tr th:only-of-type {\n",
              "        vertical-align: middle;\n",
              "    }\n",
              "\n",
              "    .dataframe tbody tr th {\n",
              "        vertical-align: top;\n",
              "    }\n",
              "\n",
              "    .dataframe thead th {\n",
              "        text-align: right;\n",
              "    }\n",
              "</style>\n",
              "<table border=\"1\" class=\"dataframe\">\n",
              "  <thead>\n",
              "    <tr style=\"text-align: right;\">\n",
              "      <th></th>\n",
              "      <th>0</th>\n",
              "      <th>1</th>\n",
              "      <th>2</th>\n",
              "      <th>3</th>\n",
              "      <th>4</th>\n",
              "      <th>5</th>\n",
              "      <th>6</th>\n",
              "      <th>7</th>\n",
              "      <th>8</th>\n",
              "      <th>9</th>\n",
              "      <th>10</th>\n",
              "      <th>11</th>\n",
              "      <th>12</th>\n",
              "      <th>13</th>\n",
              "      <th>14</th>\n",
              "      <th>15</th>\n",
              "      <th>16</th>\n",
              "      <th>17</th>\n",
              "      <th>18</th>\n",
              "      <th>19</th>\n",
              "      <th>20</th>\n",
              "      <th>21</th>\n",
              "      <th>22</th>\n",
              "      <th>23</th>\n",
              "      <th>24</th>\n",
              "      <th>25</th>\n",
              "      <th>26</th>\n",
              "      <th>27</th>\n",
              "      <th>28</th>\n",
              "      <th>29</th>\n",
              "      <th>30</th>\n",
              "      <th>31</th>\n",
              "      <th>32</th>\n",
              "      <th>33</th>\n",
              "      <th>34</th>\n",
              "      <th>35</th>\n",
              "      <th>36</th>\n",
              "      <th>37</th>\n",
              "      <th>38</th>\n",
              "      <th>39</th>\n",
              "      <th>40</th>\n",
              "      <th>41</th>\n",
              "      <th>42</th>\n",
              "      <th>43</th>\n",
              "      <th>44</th>\n",
              "      <th>45</th>\n",
              "      <th>46</th>\n",
              "      <th>47</th>\n",
              "      <th>48</th>\n",
              "      <th>49</th>\n",
              "      <th>50</th>\n",
              "      <th>51</th>\n",
              "      <th>52</th>\n",
              "      <th>53</th>\n",
              "      <th>54</th>\n",
              "      <th>55</th>\n",
              "      <th>56</th>\n",
              "      <th>57</th>\n",
              "      <th>58</th>\n",
              "      <th>59</th>\n",
              "    </tr>\n",
              "  </thead>\n",
              "  <tbody>\n",
              "    <tr>\n",
              "      <th>0</th>\n",
              "      <td>0.085814</td>\n",
              "      <td>0.097012</td>\n",
              "      <td>0.094334</td>\n",
              "      <td>0.091562</td>\n",
              "      <td>0.079842</td>\n",
              "      <td>0.064328</td>\n",
              "      <td>0.058542</td>\n",
              "      <td>0.065686</td>\n",
              "      <td>0.061091</td>\n",
              "      <td>0.066393</td>\n",
              "      <td>0.061426</td>\n",
              "      <td>0.074745</td>\n",
              "      <td>0.027978</td>\n",
              "      <td>0.023793</td>\n",
              "      <td>0.024090</td>\n",
              "      <td>0.015924</td>\n",
              "      <td>0.010789</td>\n",
              "      <td>0.009673</td>\n",
              "      <td>0.016426</td>\n",
              "      <td>0.021002</td>\n",
              "      <td>0.022807</td>\n",
              "      <td>0.022732</td>\n",
              "      <td>0.028108</td>\n",
              "      <td>0.032127</td>\n",
              "      <td>0.043381</td>\n",
              "      <td>0.044758</td>\n",
              "      <td>0.047902</td>\n",
              "      <td>0.044069</td>\n",
              "      <td>0.046488</td>\n",
              "      <td>0.047455</td>\n",
              "      <td>0.048739</td>\n",
              "      <td>0.039363</td>\n",
              "      <td>0.041372</td>\n",
              "      <td>0.040349</td>\n",
              "      <td>0.047846</td>\n",
              "      <td>0.043251</td>\n",
              "      <td>0.043567</td>\n",
              "      <td>0.042860</td>\n",
              "      <td>0.046023</td>\n",
              "      <td>0.053985</td>\n",
              "      <td>0.057389</td>\n",
              "      <td>0.057147</td>\n",
              "      <td>0.055696</td>\n",
              "      <td>0.044218</td>\n",
              "      <td>0.045148</td>\n",
              "      <td>0.046060</td>\n",
              "      <td>0.044125</td>\n",
              "      <td>0.036759</td>\n",
              "      <td>0.044869</td>\n",
              "      <td>0.050655</td>\n",
              "      <td>0.052143</td>\n",
              "      <td>0.056124</td>\n",
              "      <td>0.058189</td>\n",
              "      <td>0.065407</td>\n",
              "      <td>0.068830</td>\n",
              "      <td>0.072438</td>\n",
              "      <td>0.079935</td>\n",
              "      <td>0.078466</td>\n",
              "      <td>0.080345</td>\n",
              "      <td>0.084977</td>\n",
              "    </tr>\n",
              "    <tr>\n",
              "      <th>1</th>\n",
              "      <td>0.097012</td>\n",
              "      <td>0.094334</td>\n",
              "      <td>0.091562</td>\n",
              "      <td>0.079842</td>\n",
              "      <td>0.064328</td>\n",
              "      <td>0.058542</td>\n",
              "      <td>0.065686</td>\n",
              "      <td>0.061091</td>\n",
              "      <td>0.066393</td>\n",
              "      <td>0.061426</td>\n",
              "      <td>0.074745</td>\n",
              "      <td>0.027978</td>\n",
              "      <td>0.023793</td>\n",
              "      <td>0.024090</td>\n",
              "      <td>0.015924</td>\n",
              "      <td>0.010789</td>\n",
              "      <td>0.009673</td>\n",
              "      <td>0.016426</td>\n",
              "      <td>0.021002</td>\n",
              "      <td>0.022807</td>\n",
              "      <td>0.022732</td>\n",
              "      <td>0.028108</td>\n",
              "      <td>0.032127</td>\n",
              "      <td>0.043381</td>\n",
              "      <td>0.044758</td>\n",
              "      <td>0.047902</td>\n",
              "      <td>0.044069</td>\n",
              "      <td>0.046488</td>\n",
              "      <td>0.047455</td>\n",
              "      <td>0.048739</td>\n",
              "      <td>0.039363</td>\n",
              "      <td>0.041372</td>\n",
              "      <td>0.040349</td>\n",
              "      <td>0.047846</td>\n",
              "      <td>0.043251</td>\n",
              "      <td>0.043567</td>\n",
              "      <td>0.042860</td>\n",
              "      <td>0.046023</td>\n",
              "      <td>0.053985</td>\n",
              "      <td>0.057389</td>\n",
              "      <td>0.057147</td>\n",
              "      <td>0.055696</td>\n",
              "      <td>0.044218</td>\n",
              "      <td>0.045148</td>\n",
              "      <td>0.046060</td>\n",
              "      <td>0.044125</td>\n",
              "      <td>0.036759</td>\n",
              "      <td>0.044869</td>\n",
              "      <td>0.050655</td>\n",
              "      <td>0.052143</td>\n",
              "      <td>0.056124</td>\n",
              "      <td>0.058189</td>\n",
              "      <td>0.065407</td>\n",
              "      <td>0.068830</td>\n",
              "      <td>0.072438</td>\n",
              "      <td>0.079935</td>\n",
              "      <td>0.078466</td>\n",
              "      <td>0.080345</td>\n",
              "      <td>0.084977</td>\n",
              "      <td>0.086279</td>\n",
              "    </tr>\n",
              "    <tr>\n",
              "      <th>2</th>\n",
              "      <td>0.094334</td>\n",
              "      <td>0.091562</td>\n",
              "      <td>0.079842</td>\n",
              "      <td>0.064328</td>\n",
              "      <td>0.058542</td>\n",
              "      <td>0.065686</td>\n",
              "      <td>0.061091</td>\n",
              "      <td>0.066393</td>\n",
              "      <td>0.061426</td>\n",
              "      <td>0.074745</td>\n",
              "      <td>0.027978</td>\n",
              "      <td>0.023793</td>\n",
              "      <td>0.024090</td>\n",
              "      <td>0.015924</td>\n",
              "      <td>0.010789</td>\n",
              "      <td>0.009673</td>\n",
              "      <td>0.016426</td>\n",
              "      <td>0.021002</td>\n",
              "      <td>0.022807</td>\n",
              "      <td>0.022732</td>\n",
              "      <td>0.028108</td>\n",
              "      <td>0.032127</td>\n",
              "      <td>0.043381</td>\n",
              "      <td>0.044758</td>\n",
              "      <td>0.047902</td>\n",
              "      <td>0.044069</td>\n",
              "      <td>0.046488</td>\n",
              "      <td>0.047455</td>\n",
              "      <td>0.048739</td>\n",
              "      <td>0.039363</td>\n",
              "      <td>0.041372</td>\n",
              "      <td>0.040349</td>\n",
              "      <td>0.047846</td>\n",
              "      <td>0.043251</td>\n",
              "      <td>0.043567</td>\n",
              "      <td>0.042860</td>\n",
              "      <td>0.046023</td>\n",
              "      <td>0.053985</td>\n",
              "      <td>0.057389</td>\n",
              "      <td>0.057147</td>\n",
              "      <td>0.055696</td>\n",
              "      <td>0.044218</td>\n",
              "      <td>0.045148</td>\n",
              "      <td>0.046060</td>\n",
              "      <td>0.044125</td>\n",
              "      <td>0.036759</td>\n",
              "      <td>0.044869</td>\n",
              "      <td>0.050655</td>\n",
              "      <td>0.052143</td>\n",
              "      <td>0.056124</td>\n",
              "      <td>0.058189</td>\n",
              "      <td>0.065407</td>\n",
              "      <td>0.068830</td>\n",
              "      <td>0.072438</td>\n",
              "      <td>0.079935</td>\n",
              "      <td>0.078466</td>\n",
              "      <td>0.080345</td>\n",
              "      <td>0.084977</td>\n",
              "      <td>0.086279</td>\n",
              "      <td>0.084716</td>\n",
              "    </tr>\n",
              "    <tr>\n",
              "      <th>3</th>\n",
              "      <td>0.091562</td>\n",
              "      <td>0.079842</td>\n",
              "      <td>0.064328</td>\n",
              "      <td>0.058542</td>\n",
              "      <td>0.065686</td>\n",
              "      <td>0.061091</td>\n",
              "      <td>0.066393</td>\n",
              "      <td>0.061426</td>\n",
              "      <td>0.074745</td>\n",
              "      <td>0.027978</td>\n",
              "      <td>0.023793</td>\n",
              "      <td>0.024090</td>\n",
              "      <td>0.015924</td>\n",
              "      <td>0.010789</td>\n",
              "      <td>0.009673</td>\n",
              "      <td>0.016426</td>\n",
              "      <td>0.021002</td>\n",
              "      <td>0.022807</td>\n",
              "      <td>0.022732</td>\n",
              "      <td>0.028108</td>\n",
              "      <td>0.032127</td>\n",
              "      <td>0.043381</td>\n",
              "      <td>0.044758</td>\n",
              "      <td>0.047902</td>\n",
              "      <td>0.044069</td>\n",
              "      <td>0.046488</td>\n",
              "      <td>0.047455</td>\n",
              "      <td>0.048739</td>\n",
              "      <td>0.039363</td>\n",
              "      <td>0.041372</td>\n",
              "      <td>0.040349</td>\n",
              "      <td>0.047846</td>\n",
              "      <td>0.043251</td>\n",
              "      <td>0.043567</td>\n",
              "      <td>0.042860</td>\n",
              "      <td>0.046023</td>\n",
              "      <td>0.053985</td>\n",
              "      <td>0.057389</td>\n",
              "      <td>0.057147</td>\n",
              "      <td>0.055696</td>\n",
              "      <td>0.044218</td>\n",
              "      <td>0.045148</td>\n",
              "      <td>0.046060</td>\n",
              "      <td>0.044125</td>\n",
              "      <td>0.036759</td>\n",
              "      <td>0.044869</td>\n",
              "      <td>0.050655</td>\n",
              "      <td>0.052143</td>\n",
              "      <td>0.056124</td>\n",
              "      <td>0.058189</td>\n",
              "      <td>0.065407</td>\n",
              "      <td>0.068830</td>\n",
              "      <td>0.072438</td>\n",
              "      <td>0.079935</td>\n",
              "      <td>0.078466</td>\n",
              "      <td>0.080345</td>\n",
              "      <td>0.084977</td>\n",
              "      <td>0.086279</td>\n",
              "      <td>0.084716</td>\n",
              "      <td>0.074541</td>\n",
              "    </tr>\n",
              "    <tr>\n",
              "      <th>4</th>\n",
              "      <td>0.079842</td>\n",
              "      <td>0.064328</td>\n",
              "      <td>0.058542</td>\n",
              "      <td>0.065686</td>\n",
              "      <td>0.061091</td>\n",
              "      <td>0.066393</td>\n",
              "      <td>0.061426</td>\n",
              "      <td>0.074745</td>\n",
              "      <td>0.027978</td>\n",
              "      <td>0.023793</td>\n",
              "      <td>0.024090</td>\n",
              "      <td>0.015924</td>\n",
              "      <td>0.010789</td>\n",
              "      <td>0.009673</td>\n",
              "      <td>0.016426</td>\n",
              "      <td>0.021002</td>\n",
              "      <td>0.022807</td>\n",
              "      <td>0.022732</td>\n",
              "      <td>0.028108</td>\n",
              "      <td>0.032127</td>\n",
              "      <td>0.043381</td>\n",
              "      <td>0.044758</td>\n",
              "      <td>0.047902</td>\n",
              "      <td>0.044069</td>\n",
              "      <td>0.046488</td>\n",
              "      <td>0.047455</td>\n",
              "      <td>0.048739</td>\n",
              "      <td>0.039363</td>\n",
              "      <td>0.041372</td>\n",
              "      <td>0.040349</td>\n",
              "      <td>0.047846</td>\n",
              "      <td>0.043251</td>\n",
              "      <td>0.043567</td>\n",
              "      <td>0.042860</td>\n",
              "      <td>0.046023</td>\n",
              "      <td>0.053985</td>\n",
              "      <td>0.057389</td>\n",
              "      <td>0.057147</td>\n",
              "      <td>0.055696</td>\n",
              "      <td>0.044218</td>\n",
              "      <td>0.045148</td>\n",
              "      <td>0.046060</td>\n",
              "      <td>0.044125</td>\n",
              "      <td>0.036759</td>\n",
              "      <td>0.044869</td>\n",
              "      <td>0.050655</td>\n",
              "      <td>0.052143</td>\n",
              "      <td>0.056124</td>\n",
              "      <td>0.058189</td>\n",
              "      <td>0.065407</td>\n",
              "      <td>0.068830</td>\n",
              "      <td>0.072438</td>\n",
              "      <td>0.079935</td>\n",
              "      <td>0.078466</td>\n",
              "      <td>0.080345</td>\n",
              "      <td>0.084977</td>\n",
              "      <td>0.086279</td>\n",
              "      <td>0.084716</td>\n",
              "      <td>0.074541</td>\n",
              "      <td>0.078838</td>\n",
              "    </tr>\n",
              "  </tbody>\n",
              "</table>\n",
              "</div>"
            ],
            "text/plain": [
              "         0         1         2   ...        57        58        59\n",
              "0  0.085814  0.097012  0.094334  ...  0.078466  0.080345  0.084977\n",
              "1  0.097012  0.094334  0.091562  ...  0.080345  0.084977  0.086279\n",
              "2  0.094334  0.091562  0.079842  ...  0.084977  0.086279  0.084716\n",
              "3  0.091562  0.079842  0.064328  ...  0.086279  0.084716  0.074541\n",
              "4  0.079842  0.064328  0.058542  ...  0.084716  0.074541  0.078838\n",
              "\n",
              "[5 rows x 60 columns]"
            ]
          },
          "metadata": {
            "tags": []
          },
          "execution_count": 94
        }
      ]
    },
    {
      "cell_type": "code",
      "metadata": {
        "id": "Wnw6u7Qc2He9",
        "colab_type": "code",
        "outputId": "7257c779-56ec-4cc4-c70a-aafc56a7ed77",
        "colab": {
          "base_uri": "https://localhost:8080/",
          "height": 0
        }
      },
      "source": [
        "pd.DataFrame(y_train).head(5)"
      ],
      "execution_count": 95,
      "outputs": [
        {
          "output_type": "execute_result",
          "data": {
            "text/html": [
              "<div>\n",
              "<style scoped>\n",
              "    .dataframe tbody tr th:only-of-type {\n",
              "        vertical-align: middle;\n",
              "    }\n",
              "\n",
              "    .dataframe tbody tr th {\n",
              "        vertical-align: top;\n",
              "    }\n",
              "\n",
              "    .dataframe thead th {\n",
              "        text-align: right;\n",
              "    }\n",
              "</style>\n",
              "<table border=\"1\" class=\"dataframe\">\n",
              "  <thead>\n",
              "    <tr style=\"text-align: right;\">\n",
              "      <th></th>\n",
              "      <th>0</th>\n",
              "    </tr>\n",
              "  </thead>\n",
              "  <tbody>\n",
              "    <tr>\n",
              "      <th>0</th>\n",
              "      <td>0.086279</td>\n",
              "    </tr>\n",
              "    <tr>\n",
              "      <th>1</th>\n",
              "      <td>0.084716</td>\n",
              "    </tr>\n",
              "    <tr>\n",
              "      <th>2</th>\n",
              "      <td>0.074541</td>\n",
              "    </tr>\n",
              "    <tr>\n",
              "      <th>3</th>\n",
              "      <td>0.078838</td>\n",
              "    </tr>\n",
              "    <tr>\n",
              "      <th>4</th>\n",
              "      <td>0.072383</td>\n",
              "    </tr>\n",
              "  </tbody>\n",
              "</table>\n",
              "</div>"
            ],
            "text/plain": [
              "          0\n",
              "0  0.086279\n",
              "1  0.084716\n",
              "2  0.074541\n",
              "3  0.078838\n",
              "4  0.072383"
            ]
          },
          "metadata": {
            "tags": []
          },
          "execution_count": 95
        }
      ]
    },
    {
      "cell_type": "markdown",
      "metadata": {
        "id": "zkC4R2vH5bR7",
        "colab_type": "text"
      },
      "source": [
        "## Reshaping"
      ]
    },
    {
      "cell_type": "markdown",
      "metadata": {
        "id": "afl72Oy65dyL",
        "colab_type": "text"
      },
      "source": [
        "- Keras Recurrent Layers doc: \n",
        "3D tensor with shape (batch_size, timesteps, input_dim)"
      ]
    },
    {
      "cell_type": "code",
      "metadata": {
        "id": "4KYp3uro2NoX",
        "colab_type": "code",
        "colab": {}
      },
      "source": [
        "X_train = np.reshape(X_train, (X_train.shape[0], X_train.shape[1], 1))"
      ],
      "execution_count": 0,
      "outputs": []
    },
    {
      "cell_type": "code",
      "metadata": {
        "id": "vYFc6PmG6o6N",
        "colab_type": "code",
        "outputId": "7eb328ed-4fb4-4fb0-ddd6-23b4e009f22c",
        "colab": {
          "base_uri": "https://localhost:8080/",
          "height": 34
        }
      },
      "source": [
        "X_train.shape"
      ],
      "execution_count": 97,
      "outputs": [
        {
          "output_type": "execute_result",
          "data": {
            "text/plain": [
              "(1197, 60, 1)"
            ]
          },
          "metadata": {
            "tags": []
          },
          "execution_count": 97
        }
      ]
    },
    {
      "cell_type": "markdown",
      "metadata": {
        "id": "Y64b8tIS9cfC",
        "colab_type": "text"
      },
      "source": [
        "## Build a RNN Model"
      ]
    },
    {
      "cell_type": "code",
      "metadata": {
        "id": "SnSBFKY59nNE",
        "colab_type": "code",
        "colab": {}
      },
      "source": [
        "import tensorflow.keras as keras\n",
        "from keras.models import Sequential\n",
        "from keras.layers import Dense\n",
        "from keras.layers import LSTM\n",
        "from keras.layers import Dropout"
      ],
      "execution_count": 0,
      "outputs": []
    },
    {
      "cell_type": "code",
      "metadata": {
        "id": "4BvfWurQ-Cz3",
        "colab_type": "code",
        "colab": {}
      },
      "source": [
        "# To predict a continue value, we will use regression.\n",
        "regressor = Sequential()"
      ],
      "execution_count": 0,
      "outputs": []
    },
    {
      "cell_type": "code",
      "metadata": {
        "id": "qhhLqEvj-l4B",
        "colab_type": "code",
        "colab": {}
      },
      "source": [
        "# The first Layer\n",
        "regressor.add(LSTM(units= 50, return_sequences= True, input_shape=(X_train.shape[1], 1)))\n",
        "regressor.add(Dropout(0.2))"
      ],
      "execution_count": 0,
      "outputs": []
    },
    {
      "cell_type": "code",
      "metadata": {
        "id": "YVQvIuDd-Yx8",
        "colab_type": "code",
        "colab": {}
      },
      "source": [
        "# The second Layer\n",
        "regressor.add(LSTM(units= 50, return_sequences= True))\n",
        "regressor.add(Dropout(0.2))"
      ],
      "execution_count": 0,
      "outputs": []
    },
    {
      "cell_type": "code",
      "metadata": {
        "id": "L4eB-tBcEe-P",
        "colab_type": "code",
        "colab": {}
      },
      "source": [
        "# The third Layer\n",
        "regressor.add(LSTM(units= 50, return_sequences= True))\n",
        "regressor.add(Dropout(0.2))"
      ],
      "execution_count": 0,
      "outputs": []
    },
    {
      "cell_type": "code",
      "metadata": {
        "id": "VUBzGrLrFr4E",
        "colab_type": "code",
        "colab": {}
      },
      "source": [
        "# The forth Layer\n",
        "regressor.add(LSTM(units= 50, return_sequences= False))\n",
        "regressor.add(Dropout(0.2))"
      ],
      "execution_count": 0,
      "outputs": []
    },
    {
      "cell_type": "code",
      "metadata": {
        "id": "B0v2M8IvF_o2",
        "colab_type": "code",
        "colab": {}
      },
      "source": [
        "# the output layer\n",
        "regressor.add(Dense(units=1))"
      ],
      "execution_count": 0,
      "outputs": []
    },
    {
      "cell_type": "markdown",
      "metadata": {
        "id": "F0CYzSPkIvY7",
        "colab_type": "text"
      },
      "source": [
        "## Compile the model with arguments"
      ]
    },
    {
      "cell_type": "code",
      "metadata": {
        "id": "grZDaQvSIzkq",
        "colab_type": "code",
        "colab": {}
      },
      "source": [
        "regressor.compile(optimizer='adam', loss= 'mean_squared_error')"
      ],
      "execution_count": 0,
      "outputs": []
    },
    {
      "cell_type": "markdown",
      "metadata": {
        "id": "YgXUyycZJ7vI",
        "colab_type": "text"
      },
      "source": [
        "## Train the model with data"
      ]
    },
    {
      "cell_type": "code",
      "metadata": {
        "id": "HPkLpiU5J7kB",
        "colab_type": "code",
        "colab": {
          "base_uri": "https://localhost:8080/",
          "height": 1000
        },
        "outputId": "a0158aa2-ab22-4c96-a1da-394631374c88"
      },
      "source": [
        "regressor.fit(X_train, y_train, epochs= 100, batch_size= 32)"
      ],
      "execution_count": 107,
      "outputs": [
        {
          "output_type": "stream",
          "text": [
            "WARNING:tensorflow:From /usr/local/lib/python3.6/dist-packages/tensorflow_core/python/ops/math_grad.py:1424: where (from tensorflow.python.ops.array_ops) is deprecated and will be removed in a future version.\n",
            "Instructions for updating:\n",
            "Use tf.where in 2.0, which has the same broadcast rule as np.where\n",
            "Epoch 1/100\n",
            "1197/1197 [==============================] - 13s 10ms/step - loss: 0.0624\n",
            "Epoch 2/100\n",
            "1197/1197 [==============================] - 8s 7ms/step - loss: 0.0067\n",
            "Epoch 3/100\n",
            "1197/1197 [==============================] - 8s 7ms/step - loss: 0.0054\n",
            "Epoch 4/100\n",
            "1197/1197 [==============================] - 8s 7ms/step - loss: 0.0056\n",
            "Epoch 5/100\n",
            "1197/1197 [==============================] - 8s 7ms/step - loss: 0.0053\n",
            "Epoch 6/100\n",
            "1197/1197 [==============================] - 8s 7ms/step - loss: 0.0048\n",
            "Epoch 7/100\n",
            "1197/1197 [==============================] - 8s 7ms/step - loss: 0.0052\n",
            "Epoch 8/100\n",
            "1197/1197 [==============================] - 8s 7ms/step - loss: 0.0050\n",
            "Epoch 9/100\n",
            "1197/1197 [==============================] - 8s 7ms/step - loss: 0.0048\n",
            "Epoch 10/100\n",
            "1197/1197 [==============================] - 8s 7ms/step - loss: 0.0046\n",
            "Epoch 11/100\n",
            "1197/1197 [==============================] - 8s 7ms/step - loss: 0.0042\n",
            "Epoch 12/100\n",
            "1197/1197 [==============================] - 8s 7ms/step - loss: 0.0048\n",
            "Epoch 13/100\n",
            "1197/1197 [==============================] - 8s 7ms/step - loss: 0.0038\n",
            "Epoch 14/100\n",
            "1197/1197 [==============================] - 8s 7ms/step - loss: 0.0041\n",
            "Epoch 15/100\n",
            "1197/1197 [==============================] - 8s 7ms/step - loss: 0.0032\n",
            "Epoch 16/100\n",
            "1197/1197 [==============================] - 8s 7ms/step - loss: 0.0037\n",
            "Epoch 17/100\n",
            "1197/1197 [==============================] - 8s 7ms/step - loss: 0.0036\n",
            "Epoch 18/100\n",
            "1197/1197 [==============================] - 8s 7ms/step - loss: 0.0038\n",
            "Epoch 19/100\n",
            "1197/1197 [==============================] - 8s 7ms/step - loss: 0.0035\n",
            "Epoch 20/100\n",
            "1197/1197 [==============================] - 8s 7ms/step - loss: 0.0033\n",
            "Epoch 21/100\n",
            "1197/1197 [==============================] - 8s 7ms/step - loss: 0.0038\n",
            "Epoch 22/100\n",
            "1197/1197 [==============================] - 8s 7ms/step - loss: 0.0033\n",
            "Epoch 23/100\n",
            "1197/1197 [==============================] - 8s 7ms/step - loss: 0.0031\n",
            "Epoch 24/100\n",
            "1197/1197 [==============================] - 8s 7ms/step - loss: 0.0032\n",
            "Epoch 25/100\n",
            "1197/1197 [==============================] - 8s 7ms/step - loss: 0.0033\n",
            "Epoch 26/100\n",
            "1197/1197 [==============================] - 8s 7ms/step - loss: 0.0034\n",
            "Epoch 27/100\n",
            "1197/1197 [==============================] - 8s 7ms/step - loss: 0.0032\n",
            "Epoch 28/100\n",
            "1197/1197 [==============================] - 8s 7ms/step - loss: 0.0032\n",
            "Epoch 29/100\n",
            "1197/1197 [==============================] - 8s 7ms/step - loss: 0.0032\n",
            "Epoch 30/100\n",
            "1197/1197 [==============================] - 8s 7ms/step - loss: 0.0029\n",
            "Epoch 31/100\n",
            "1197/1197 [==============================] - 8s 7ms/step - loss: 0.0026\n",
            "Epoch 32/100\n",
            "1197/1197 [==============================] - 8s 7ms/step - loss: 0.0029\n",
            "Epoch 33/100\n",
            "1197/1197 [==============================] - 8s 7ms/step - loss: 0.0028\n",
            "Epoch 34/100\n",
            "1197/1197 [==============================] - 8s 7ms/step - loss: 0.0028\n",
            "Epoch 35/100\n",
            "1197/1197 [==============================] - 8s 7ms/step - loss: 0.0030\n",
            "Epoch 36/100\n",
            "1197/1197 [==============================] - 8s 7ms/step - loss: 0.0029\n",
            "Epoch 37/100\n",
            "1197/1197 [==============================] - 8s 7ms/step - loss: 0.0030\n",
            "Epoch 38/100\n",
            "1197/1197 [==============================] - 8s 7ms/step - loss: 0.0028\n",
            "Epoch 39/100\n",
            "1197/1197 [==============================] - 8s 7ms/step - loss: 0.0025\n",
            "Epoch 40/100\n",
            "1197/1197 [==============================] - 8s 7ms/step - loss: 0.0027\n",
            "Epoch 41/100\n",
            "1197/1197 [==============================] - 8s 7ms/step - loss: 0.0030\n",
            "Epoch 42/100\n",
            "1197/1197 [==============================] - 8s 7ms/step - loss: 0.0025\n",
            "Epoch 43/100\n",
            "1197/1197 [==============================] - 8s 7ms/step - loss: 0.0025\n",
            "Epoch 44/100\n",
            "1197/1197 [==============================] - 8s 7ms/step - loss: 0.0026\n",
            "Epoch 45/100\n",
            "1197/1197 [==============================] - 8s 7ms/step - loss: 0.0026\n",
            "Epoch 46/100\n",
            "1197/1197 [==============================] - 8s 7ms/step - loss: 0.0025\n",
            "Epoch 47/100\n",
            "1197/1197 [==============================] - 8s 7ms/step - loss: 0.0024\n",
            "Epoch 48/100\n",
            "1197/1197 [==============================] - 8s 7ms/step - loss: 0.0023\n",
            "Epoch 49/100\n",
            "1197/1197 [==============================] - 8s 7ms/step - loss: 0.0023\n",
            "Epoch 50/100\n",
            "1197/1197 [==============================] - 8s 7ms/step - loss: 0.0025\n",
            "Epoch 51/100\n",
            "1197/1197 [==============================] - 8s 7ms/step - loss: 0.0026\n",
            "Epoch 52/100\n",
            "1197/1197 [==============================] - 8s 7ms/step - loss: 0.0023\n",
            "Epoch 53/100\n",
            "1197/1197 [==============================] - 8s 7ms/step - loss: 0.0023\n",
            "Epoch 54/100\n",
            "1197/1197 [==============================] - 8s 7ms/step - loss: 0.0022\n",
            "Epoch 55/100\n",
            "1197/1197 [==============================] - 8s 7ms/step - loss: 0.0024\n",
            "Epoch 56/100\n",
            "1197/1197 [==============================] - 8s 7ms/step - loss: 0.0022\n",
            "Epoch 57/100\n",
            "1197/1197 [==============================] - 8s 7ms/step - loss: 0.0023\n",
            "Epoch 58/100\n",
            "1197/1197 [==============================] - 8s 7ms/step - loss: 0.0022\n",
            "Epoch 59/100\n",
            "1197/1197 [==============================] - 8s 7ms/step - loss: 0.0020\n",
            "Epoch 60/100\n",
            "1197/1197 [==============================] - 8s 7ms/step - loss: 0.0022\n",
            "Epoch 61/100\n",
            "1197/1197 [==============================] - 8s 7ms/step - loss: 0.0024\n",
            "Epoch 62/100\n",
            "1197/1197 [==============================] - 8s 7ms/step - loss: 0.0020\n",
            "Epoch 63/100\n",
            "1197/1197 [==============================] - 8s 7ms/step - loss: 0.0019\n",
            "Epoch 64/100\n",
            "1197/1197 [==============================] - 8s 7ms/step - loss: 0.0020\n",
            "Epoch 65/100\n",
            "1197/1197 [==============================] - 8s 7ms/step - loss: 0.0022\n",
            "Epoch 66/100\n",
            "1197/1197 [==============================] - 8s 7ms/step - loss: 0.0020\n",
            "Epoch 67/100\n",
            "1197/1197 [==============================] - 8s 7ms/step - loss: 0.0019\n",
            "Epoch 68/100\n",
            "1197/1197 [==============================] - 8s 7ms/step - loss: 0.0018\n",
            "Epoch 69/100\n",
            "1197/1197 [==============================] - 8s 7ms/step - loss: 0.0018\n",
            "Epoch 70/100\n",
            "1197/1197 [==============================] - 8s 7ms/step - loss: 0.0019\n",
            "Epoch 71/100\n",
            "1197/1197 [==============================] - 8s 7ms/step - loss: 0.0020\n",
            "Epoch 72/100\n",
            "1197/1197 [==============================] - 8s 7ms/step - loss: 0.0018\n",
            "Epoch 73/100\n",
            "1197/1197 [==============================] - 8s 7ms/step - loss: 0.0021\n",
            "Epoch 74/100\n",
            "1197/1197 [==============================] - 8s 7ms/step - loss: 0.0020\n",
            "Epoch 75/100\n",
            "1197/1197 [==============================] - 8s 7ms/step - loss: 0.0016\n",
            "Epoch 76/100\n",
            "1197/1197 [==============================] - 8s 7ms/step - loss: 0.0020\n",
            "Epoch 77/100\n",
            "1197/1197 [==============================] - 8s 7ms/step - loss: 0.0017\n",
            "Epoch 78/100\n",
            "1197/1197 [==============================] - 8s 7ms/step - loss: 0.0016\n",
            "Epoch 79/100\n",
            "1197/1197 [==============================] - 8s 7ms/step - loss: 0.0018\n",
            "Epoch 80/100\n",
            "1197/1197 [==============================] - 8s 7ms/step - loss: 0.0017\n",
            "Epoch 81/100\n",
            "1197/1197 [==============================] - 8s 7ms/step - loss: 0.0016\n",
            "Epoch 82/100\n",
            "1197/1197 [==============================] - 8s 7ms/step - loss: 0.0016\n",
            "Epoch 83/100\n",
            "1197/1197 [==============================] - 8s 7ms/step - loss: 0.0017\n",
            "Epoch 84/100\n",
            "1197/1197 [==============================] - 8s 7ms/step - loss: 0.0018\n",
            "Epoch 85/100\n",
            "1197/1197 [==============================] - 8s 7ms/step - loss: 0.0017\n",
            "Epoch 86/100\n",
            "1197/1197 [==============================] - 8s 7ms/step - loss: 0.0017\n",
            "Epoch 87/100\n",
            "1197/1197 [==============================] - 8s 7ms/step - loss: 0.0015\n",
            "Epoch 88/100\n",
            "1197/1197 [==============================] - 8s 7ms/step - loss: 0.0015\n",
            "Epoch 89/100\n",
            "1197/1197 [==============================] - 8s 7ms/step - loss: 0.0015\n",
            "Epoch 90/100\n",
            "1197/1197 [==============================] - 8s 7ms/step - loss: 0.0016\n",
            "Epoch 91/100\n",
            "1197/1197 [==============================] - 8s 7ms/step - loss: 0.0015\n",
            "Epoch 92/100\n",
            "1197/1197 [==============================] - 8s 7ms/step - loss: 0.0015\n",
            "Epoch 93/100\n",
            "1197/1197 [==============================] - 8s 7ms/step - loss: 0.0018\n",
            "Epoch 94/100\n",
            "1197/1197 [==============================] - 8s 7ms/step - loss: 0.0015\n",
            "Epoch 95/100\n",
            "1197/1197 [==============================] - 8s 7ms/step - loss: 0.0015\n",
            "Epoch 96/100\n",
            "1197/1197 [==============================] - 8s 7ms/step - loss: 0.0015\n",
            "Epoch 97/100\n",
            "1197/1197 [==============================] - 8s 7ms/step - loss: 0.0015\n",
            "Epoch 98/100\n",
            "1197/1197 [==============================] - 8s 7ms/step - loss: 0.0014\n",
            "Epoch 99/100\n",
            "1197/1197 [==============================] - 8s 7ms/step - loss: 0.0015\n",
            "Epoch 100/100\n",
            "1197/1197 [==============================] - 8s 7ms/step - loss: 0.0014\n"
          ],
          "name": "stdout"
        },
        {
          "output_type": "execute_result",
          "data": {
            "text/plain": [
              "<keras.callbacks.History at 0x7f76ce393f98>"
            ]
          },
          "metadata": {
            "tags": []
          },
          "execution_count": 107
        }
      ]
    },
    {
      "cell_type": "markdown",
      "metadata": {
        "id": "oznSzJ2BOG6p",
        "colab_type": "text"
      },
      "source": [
        "## Test the model"
      ]
    },
    {
      "cell_type": "code",
      "metadata": {
        "id": "sxP-wsAJJa5x",
        "colab_type": "code",
        "colab": {}
      },
      "source": [
        "real_stock_price = test_data.iloc[:, 1:2].values"
      ],
      "execution_count": 0,
      "outputs": []
    },
    {
      "cell_type": "code",
      "metadata": {
        "id": "7wqMgf7HPr9R",
        "colab_type": "code",
        "colab": {}
      },
      "source": [
        "data_total = pd.concat((train_data['Open'], test_data['Open']), axis= 0)\n",
        "inputs = data_total[len(data_total)-len(test_data) - 60 : ].values\n",
        "inputs = inputs.reshape(-1, 1)\n",
        "inputs = sc.transform(inputs)"
      ],
      "execution_count": 0,
      "outputs": []
    },
    {
      "cell_type": "code",
      "metadata": {
        "id": "wCJ9k1FwT6E2",
        "colab_type": "code",
        "colab": {
          "base_uri": "https://localhost:8080/",
          "height": 34
        },
        "outputId": "367f4099-a8c7-408d-a5fb-db64e361a517"
      },
      "source": [
        "inputs.shape"
      ],
      "execution_count": 114,
      "outputs": [
        {
          "output_type": "execute_result",
          "data": {
            "text/plain": [
              "(80, 1)"
            ]
          },
          "metadata": {
            "tags": []
          },
          "execution_count": 114
        }
      ]
    },
    {
      "cell_type": "code",
      "metadata": {
        "id": "0Cm5O30MStOc",
        "colab_type": "code",
        "colab": {}
      },
      "source": [
        "X_test = []\n",
        "for i in range(60, 80):\n",
        "  X_test.append(inputs[i-60: i, 0])\n",
        "X_test = np.array(X_test)\n",
        "X_test = np.reshape(X_test, (X_test.shape[0], X_test.shape[1], 1))"
      ],
      "execution_count": 0,
      "outputs": []
    },
    {
      "cell_type": "code",
      "metadata": {
        "id": "fiJfzcRQT_23",
        "colab_type": "code",
        "colab": {}
      },
      "source": [
        "predicted_stock_price = regressor.predict(X_test)\n",
        "predicted_stock_price = sc.inverse_transform(predicted_stock_price)"
      ],
      "execution_count": 0,
      "outputs": []
    },
    {
      "cell_type": "code",
      "metadata": {
        "id": "cvMhGk28UNRD",
        "colab_type": "code",
        "colab": {
          "base_uri": "https://localhost:8080/",
          "height": 357
        },
        "outputId": "3adf4dc9-2693-4424-fa11-e7419b9afb8b"
      },
      "source": [
        "predicted_stock_price"
      ],
      "execution_count": 117,
      "outputs": [
        {
          "output_type": "execute_result",
          "data": {
            "text/plain": [
              "array([[773.4313 ],\n",
              "       [770.8076 ],\n",
              "       [770.5758 ],\n",
              "       [771.7064 ],\n",
              "       [774.8762 ],\n",
              "       [780.64056],\n",
              "       [786.45575],\n",
              "       [789.54395],\n",
              "       [790.3976 ],\n",
              "       [790.0763 ],\n",
              "       [789.3772 ],\n",
              "       [788.6126 ],\n",
              "       [788.03546],\n",
              "       [788.2486 ],\n",
              "       [789.0891 ],\n",
              "       [793.2614 ],\n",
              "       [800.02905],\n",
              "       [807.80176],\n",
              "       [812.8544 ],\n",
              "       [810.2513 ]], dtype=float32)"
            ]
          },
          "metadata": {
            "tags": []
          },
          "execution_count": 117
        }
      ]
    },
    {
      "cell_type": "markdown",
      "metadata": {
        "id": "JvUyrO6mUVJl",
        "colab_type": "text"
      },
      "source": [
        "## Visualization"
      ]
    },
    {
      "cell_type": "code",
      "metadata": {
        "id": "O-VEf428UU0_",
        "colab_type": "code",
        "colab": {
          "base_uri": "https://localhost:8080/",
          "height": 295
        },
        "outputId": "492078c1-89d2-46d1-dd9e-b306814cd57c"
      },
      "source": [
        "plt.plot(real_stock_price, color='red', label = 'Real Google Stock Price')\n",
        "plt.plot(predicted_stock_price, color='blue', label = 'Predicted Google Stock Price')\n",
        "plt.title('Google Stock Price Predicton')\n",
        "plt.xlabel('time')\n",
        "plt.ylabel('price')\n",
        "plt.legend()\n",
        "plt.show()"
      ],
      "execution_count": 118,
      "outputs": [
        {
          "output_type": "display_data",
          "data": {
            "image/png": "[encoded data removed]",
            "text/plain": [
              "<Figure size 432x288 with 1 Axes>"
            ]
          },
          "metadata": {
            "tags": []
          }
        }
      ]
    },
    {
      "cell_type": "code",
      "metadata": {
        "id": "3Qhsvh9hUP-L",
        "colab_type": "code",
        "colab": {}
      },
      "source": [
        ""
      ],
      "execution_count": 0,
      "outputs": []
    }
  ]
}